{
 "cells": [
  {
   "cell_type": "markdown",
   "id": "2f4a416e",
   "metadata": {},
   "source": [
    "# Perceptron Learning"
   ]
  },
  {
   "cell_type": "code",
   "execution_count": 1,
   "id": "44522633",
   "metadata": {},
   "outputs": [],
   "source": [
    "import numpy as np\n"
   ]
  },
  {
   "cell_type": "markdown",
   "id": "b07a4677",
   "metadata": {},
   "source": [
    "## Vectorization of the Perceptron Rule\n",
    "\n",
    "$ X \\in R^{4 \\times 4} $,   $ t \\in R^{2 \\times 4} $ , $w \\in R^{4 \\times 2}$\n",
    "\n",
    "After the bias trick (adding the bias as the another dimension) : \n",
    "\n",
    "$ X \\in R^{5 \\times 4} $, $ t \\in R^{2 \\times 4} $ ,  $w \\in R^{5 \\times 2}$\n",
    "\n",
    "For every epochs : \n",
    "\n",
    "$Z = W \\cdot $"
   ]
  },
  {
   "cell_type": "code",
   "execution_count": 4,
   "id": "eb3f0094",
   "metadata": {},
   "outputs": [],
   "source": [
    "X = np.array([[1, 1, 0, 0], [1, 0, 0, 1], [0, 0, 1, 1], [0, 1, 1, 0]])\n",
    "t = np.array([[1, 1], [1, 0], [0, 1], [0, 0]]).transpose()\n",
    "\n",
    "X_bias = np.vstack((np.ones((1, 4)), X))\n",
    "w_bias = np.random.rand(5, 2)"
   ]
  },
  {
   "cell_type": "code",
   "execution_count": 5,
   "id": "d69decbc",
   "metadata": {},
   "outputs": [
    {
     "data": {
      "text/plain": [
       "((5, 4), (2, 4), (5, 2))"
      ]
     },
     "execution_count": 5,
     "metadata": {},
     "output_type": "execute_result"
    }
   ],
   "source": [
    "np.shape(X_bias), np.shape(t), np.shape(w_bias)"
   ]
  },
  {
   "cell_type": "code",
   "execution_count": 6,
   "id": "9d259a8c",
   "metadata": {},
   "outputs": [
    {
     "data": {
      "text/plain": [
       "array([[1., 1., 1., 1.],\n",
       "       [1., 1., 0., 0.],\n",
       "       [1., 0., 0., 1.],\n",
       "       [0., 0., 1., 1.],\n",
       "       [0., 1., 1., 0.]])"
      ]
     },
     "execution_count": 6,
     "metadata": {},
     "output_type": "execute_result"
    }
   ],
   "source": [
    "X_bias"
   ]
  },
  {
   "cell_type": "code",
   "execution_count": null,
   "id": "f51effcd",
   "metadata": {},
   "outputs": [],
   "source": []
  }
 ],
 "metadata": {
  "kernelspec": {
   "display_name": "venv (3.13.5)",
   "language": "python",
   "name": "python3"
  },
  "language_info": {
   "codemirror_mode": {
    "name": "ipython",
    "version": 3
   },
   "file_extension": ".py",
   "mimetype": "text/x-python",
   "name": "python",
   "nbconvert_exporter": "python",
   "pygments_lexer": "ipython3",
   "version": "3.13.5"
  }
 },
 "nbformat": 4,
 "nbformat_minor": 5
}
