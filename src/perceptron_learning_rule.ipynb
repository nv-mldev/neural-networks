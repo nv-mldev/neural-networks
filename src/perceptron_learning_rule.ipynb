{
 "cells": [
  {
   "cell_type": "markdown",
   "id": "2f4a416e",
   "metadata": {},
   "source": [
    "# Perceptron Learning"
   ]
  },
  {
   "cell_type": "code",
   "execution_count": 3,
   "id": "44522633",
   "metadata": {},
   "outputs": [],
   "source": [
    "import numpy as np\n",
    "import matplotlib.pyplot as plt"
   ]
  },
  {
   "cell_type": "markdown",
   "id": "1e55d699",
   "metadata": {},
   "source": [
    "### Step 1. The Inputs, Weights and Targets as matrices \n",
    "\n",
    "$$ X \\in R^{n \\times d} $$\n",
    "where : \n",
    "$$ n = \\text{number of samples/observations} $$\n",
    "$$ d = \\text{number of dimension/features} $$\n",
    "\n"
   ]
  },
  {
   "cell_type": "code",
   "execution_count": 5,
   "id": "eb3f0094",
   "metadata": {},
   "outputs": [
    {
     "name": "stdout",
     "output_type": "stream",
     "text": [
      "Input matrix is :\n",
      " [[0 0]\n",
      " [0 1]\n",
      " [1 0]\n",
      " [1 1]]\n",
      "++++++++++++++++++++++++++++++++\n",
      "Target matrix is :\n",
      " [[0]\n",
      " [0]\n",
      " [0]\n",
      " [1]]\n"
     ]
    }
   ],
   "source": [
    "X = np.array([[0, 0], [0, 1], [1, 0], [1, 1]])\n",
    "t = np.array([[0], [0], [0], [1]])\n",
    "print(\"Input matrix is :\\n\", X)\n",
    "print(\"++++++++++++++++++++++++++++++++\")\n",
    "print(\"Target matrix is :\\n\", t)"
   ]
  },
  {
   "cell_type": "code",
   "execution_count": 7,
   "id": "6729bb88",
   "metadata": {},
   "outputs": [
    {
     "name": "stdout",
     "output_type": "stream",
     "text": [
      "Input matrix with bias is :\n",
      " [[1. 0. 0.]\n",
      " [1. 0. 1.]\n",
      " [1. 1. 0.]\n",
      " [1. 1. 1.]]\n",
      "++++++++++++++++++++++++++++++++\n",
      "Weight matrix with bias is :\n",
      " [[0.]\n",
      " [0.]\n",
      " [0.]]\n"
     ]
    }
   ],
   "source": [
    "Xbias = np.hstack((np.ones((X.shape[0],1)), X))\n",
    "Wbias = np.zeros((Xbias.shape[1], t.shape[1]))\n",
    "print(\"Input matrix with bias is :\\n\", Xbias)\n",
    "print(\"++++++++++++++++++++++++++++++++\")\n",
    "print(\"Weight matrix with bias is :\\n\", Wbias)"
   ]
  },
  {
   "cell_type": "markdown",
   "id": "239b7a2a",
   "metadata": {},
   "source": [
    "### Step 4: Computing the output\n",
    "\n",
    "$$ Z = X \\cdot W $$\n",
    "\n"
   ]
  },
  {
   "cell_type": "code",
   "execution_count": 9,
   "id": "d69decbc",
   "metadata": {},
   "outputs": [
    {
     "name": "stdout",
     "output_type": "stream",
     "text": [
      "The output before activation is :\n",
      " [[0.]\n",
      " [0.]\n",
      " [0.]\n",
      " [0.]]\n"
     ]
    }
   ],
   "source": [
    "Z = np.dot(Xbias, Wbias)\n",
    "print(f\"The output before activation is :\\n {Z}\")"
   ]
  },
  {
   "cell_type": "markdown",
   "id": "5ec321ba",
   "metadata": {},
   "source": [
    "### Step 5:  Applying Heaviside Threshold\n",
    "\n",
    "$$ \\phi(Z) = \\begin{cases} 1 &  Z\\geq 0 \\\\ 0 & Z<0 \\end{cases} $$"
   ]
  },
  {
   "cell_type": "code",
   "execution_count": 11,
   "id": "0f104246",
   "metadata": {},
   "outputs": [
    {
     "name": "stdout",
     "output_type": "stream",
     "text": [
      "The output after activation is :\n",
      " [[1]\n",
      " [1]\n",
      " [1]\n",
      " [1]]\n"
     ]
    }
   ],
   "source": [
    "y = np.where(Z>=0, 1, 0)\n",
    "print(f\"The output after activation is :\\n {y}\")"
   ]
  },
  {
   "cell_type": "markdown",
   "id": "726e0d91",
   "metadata": {},
   "source": [
    "## Step 6: Calculating the error\n",
    "\n",
    "$$E = t - y $$"
   ]
  },
  {
   "cell_type": "code",
   "execution_count": 19,
   "id": "9d259a8c",
   "metadata": {},
   "outputs": [
    {
     "name": "stdout",
     "output_type": "stream",
     "text": [
      "The error is :\n",
      " [[-1]\n",
      " [-1]\n",
      " [-1]\n",
      " [ 0]]\n"
     ]
    }
   ],
   "source": [
    "E = t - y\n",
    "print(f\"The error is :\\n {E}\")"
   ]
  },
  {
   "cell_type": "markdown",
   "id": "0e5dbde5",
   "metadata": {},
   "source": [
    "### Step 7: Weight update \n",
    "\n",
    "$$ \\Delta W = \\eta \\Epsilon^{T} \\cdot X $$"
   ]
  },
  {
   "cell_type": "code",
   "execution_count": 20,
   "id": "973eaaca",
   "metadata": {},
   "outputs": [
    {
     "name": "stdout",
     "output_type": "stream",
     "text": [
      "The weight update is :\n",
      " [[-3.]\n",
      " [-1.]\n",
      " [-1.]]\n",
      "The updated weights are :\n",
      " [[-6.]\n",
      " [-2.]\n",
      " [-2.]]\n"
     ]
    }
   ],
   "source": [
    "W_update = 1*np.dot(E.T, Xbias)\n",
    "print(f\"The weight update is :\\n {W_update.T}\")\n",
    "Wbias += W_update.T\n",
    "print(f\"The updated weights are :\\n {Wbias}\")\n"
   ]
  },
  {
   "cell_type": "markdown",
   "id": "8dab722a",
   "metadata": {},
   "source": []
  },
  {
   "cell_type": "markdown",
   "id": "109cc02b",
   "metadata": {},
   "source": [
    "$ \\Delta W = \\alpha \\epsilon X = \\alpha \\begin{bmatrix} \\epsilon_{11} & \\epsilon_{12} \\\\ \\epsilon_{21} & \\epsilon_{22} \\\\\n",
    "\\epsilon_{31} & \\epsilon_{32} \\\\ \\epsilon_{41} & \\epsilon_{42}\\end{bmatrix} ^{T}\\cdot \n",
    "\\begin{bmatrix}\n",
    "x_{11} & x_{12} & x_{13} & x_{14} & x_{15}\\\\\n",
    "x_{21} & x_{22} & x_{23} & x_{24} & x_{25}\\\\\n",
    "x_{31} & x_{32} & x_{33} & x_{34} & x_{35}\\\\\n",
    "x_{41} & x_{42} & x_{43} & x_{44} & x_{45}\n",
    "\\end{bmatrix} $\n",
    "\n",
    "\n",
    "$ = \\begin{bmatrix} \\epsilon_{11} & \\epsilon_{21} & \\epsilon_{31} & \\epsilon_{41} \\\\ \\epsilon_{12} & \\epsilon_{22} & \\epsilon_{32} & \\epsilon_{42} \\end{bmatrix} \\begin{bmatrix}\n",
    "x_{11} & x_{12} & x_{13} & x_{14} & x_{15}\\\\\n",
    "x_{21} & x_{22} & x_{23} & x_{24} & x_{25}\\\\\n",
    "x_{31} & x_{32} & x_{33} & x_{34} & x_{35}\\\\\n",
    "x_{41} & x_{42} & x_{43} & x_{44} & x_{45}\n",
    "\\end{bmatrix}$"
   ]
  },
  {
   "cell_type": "markdown",
   "id": "4bed1ab2",
   "metadata": {},
   "source": [
    "### 7. Putting Everything Together"
   ]
  },
  {
   "cell_type": "code",
   "execution_count": 31,
   "id": "d468170b",
   "metadata": {},
   "outputs": [
    {
     "name": "stdout",
     "output_type": "stream",
     "text": [
      "Epoch 0 and total error is :\n",
      " -3\n",
      "Epoch 1 and total error is :\n",
      " 1\n",
      "Epoch 2 and total error is :\n",
      " 1\n",
      "Epoch 3 and total error is :\n",
      " -2\n",
      "Epoch 4 and total error is :\n",
      " 1\n",
      "Training completed in 5 epochs\n",
      "good weights are :\n",
      " [[-2.]\n",
      " [ 1.]\n",
      " [ 1.]]\n"
     ]
    }
   ],
   "source": [
    "epochs = 10\n",
    "X = np.array([[0, 0], [0, 1], [1, 0], [1, 1]])\n",
    "t = np.array([[0], [0], [0], [1]])\n",
    "# print(\"Input matrix is :\\n\", X)\n",
    "# print(\"++++++++++++++++++++++++++++++++\")\n",
    "# print(\"Target matrix is :\\n\", t)\n",
    "Xbias = np.hstack((np.ones((X.shape[0],1)), X))\n",
    "Wbias = np.zeros((Xbias.shape[1], t.shape[1]))\n",
    "# print(\"Input matrix with bias is :\\n\", Xbias)\n",
    "# print(\"++++++++++++++++++++++++++++++++\")\n",
    "# print(\"Weight matrix with bias is :\\n\", Wbias)\n",
    "for epoch in range(epochs):\n",
    "    Z = np.dot(Xbias,Wbias)\n",
    "    y = np.where(Z>=0, 1, 0)\n",
    "    E = t - y\n",
    "    #stopping condition \n",
    "    if np.all(E == 0):\n",
    "        print(f\"Training completed in {epoch} epochs\\ngood weights are :\\n {Wbias}\")\n",
    "        break\n",
    "    W_update = 1*np.dot(E.T, Xbias)\n",
    "    Wbias += W_update.T\n",
    "    print(f\"Epoch {epoch} and total error is :\\n {E.sum()}\")"
   ]
  },
  {
   "cell_type": "markdown",
   "id": "68034c9b",
   "metadata": {},
   "source": [
    "### perceptron learning rule function"
   ]
  },
  {
   "cell_type": "code",
   "execution_count": 32,
   "id": "4c9283d8",
   "metadata": {},
   "outputs": [
    {
     "name": "stdout",
     "output_type": "stream",
     "text": [
      "Training completed in 5 epochs\n",
      "good weights are :\n",
      " [[-2.]\n",
      " [ 1.]\n",
      " [ 1.]]\n",
      "Final weights after training:\n",
      " [[-2.]\n",
      " [ 1.]\n",
      " [ 1.]]\n"
     ]
    }
   ],
   "source": [
    "def perceptron_learning_rule(X, t, epochs=10):\n",
    "    Xbias = np.hstack((np.ones((X.shape[0],1)), X))\n",
    "    Wbias = np.zeros((Xbias.shape[1], t.shape[1]))\n",
    "    for epoch in range(epochs):\n",
    "        Z = np.dot(Xbias,Wbias)\n",
    "        y = np.where(Z>=0, 1, 0)\n",
    "        E = t - y\n",
    "        if np.all(E == 0):\n",
    "            print(f\"Training completed in {epoch} epochs\\ngood weights are :\\n {Wbias}\")\n",
    "            return Wbias\n",
    "        W_update = 1*np.dot(E.T, Xbias)\n",
    "        Wbias += W_update.T\n",
    "    print(\"Training did not converge within the specified epochs\")\n",
    "    return Wbias\n",
    "\n",
    "W_final = perceptron_learning_rule(X, t, epochs=10)\n",
    "print(f\"Final weights after training:\\n {W_final}\")"
   ]
  }
 ],
 "metadata": {
  "kernelspec": {
   "display_name": "venv (3.13.3)",
   "language": "python",
   "name": "python3"
  },
  "language_info": {
   "codemirror_mode": {
    "name": "ipython",
    "version": 3
   },
   "file_extension": ".py",
   "mimetype": "text/x-python",
   "name": "python",
   "nbconvert_exporter": "python",
   "pygments_lexer": "ipython3",
   "version": "3.13.3"
  }
 },
 "nbformat": 4,
 "nbformat_minor": 5
}
